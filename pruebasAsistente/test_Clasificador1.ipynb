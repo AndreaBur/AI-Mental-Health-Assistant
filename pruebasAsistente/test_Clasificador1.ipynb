{
 "cells": [
  {
   "cell_type": "code",
   "execution_count": null,
   "metadata": {},
   "outputs": [
    {
     "name": "stdout",
     "output_type": "stream",
     "text": [
      "DatasetDict({\n",
      "    train: Dataset({\n",
      "        features: ['text', 'label'],\n",
      "        num_rows: 16000\n",
      "    })\n",
      "    validation: Dataset({\n",
      "        features: ['text', 'label'],\n",
      "        num_rows: 2000\n",
      "    })\n",
      "    test: Dataset({\n",
      "        features: ['text', 'label'],\n",
      "        num_rows: 2000\n",
      "    })\n",
      "})\n",
      "{'text': 'i didnt feel humiliated', 'label': 0}\n",
      "Etiquetas posibles: ['sadness', 'joy', 'love', 'anger', 'fear', 'surprise']\n"
     ]
    }
   ],
   "source": [
    "from datasets import load_dataset\n",
    "from transformers import AutoTokenizer \n",
    "\n",
    "# Cargar el dataset de emociones\n",
    "dataset = load_dataset(\"emotion\")\n",
    "\n",
    "# Mostrar resumen del dataset\n",
    "print(dataset)\n",
    "\n",
    "# Mostrar el primer ejemplo del dataset de entrenamiento\n",
    "ejemplo = dataset[\"train\"][0]\n",
    "print(ejemplo)\n",
    "\n",
    "# Obtener las etiquetas posibles\n",
    "etiquetas = dataset[\"train\"].features[\"label\"].names\n",
    "print(\"Etiquetas posibles:\", etiquetas)\n",
    "\n",
    "# Cargar el tokenizador de BERT\n",
    "tokenizer = AutoTokenizer.from_pretrained(\"bert-base-uncased\")\n",
    "\n",
    "# Función para tokenizar cada ejemplo\n",
    "def tokenize(example):\n",
    "    return tokenizer(example[\"text\"], truncation=True, padding=\"max_length\")\n",
    "\n",
    "# Aplicar tokenización al dataset completo\n",
    "tokenized_dataset = dataset.map(tokenize)\n",
    "\n"
   ]
  }
 ],
 "metadata": {
  "kernelspec": {
   "display_name": "venv",
   "language": "python",
   "name": "python3"
  },
  "language_info": {
   "codemirror_mode": {
    "name": "ipython",
    "version": 3
   },
   "file_extension": ".py",
   "mimetype": "text/x-python",
   "name": "python",
   "nbconvert_exporter": "python",
   "pygments_lexer": "ipython3",
   "version": "3.13.3"
  }
 },
 "nbformat": 4,
 "nbformat_minor": 2
}
